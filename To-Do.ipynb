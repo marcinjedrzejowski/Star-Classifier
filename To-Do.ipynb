{
 "cells": [
  {
   "cell_type": "markdown",
   "metadata": {},
   "source": [
    "**07.12.2023**\n",
    "1. ~~Implement the possibility of zero-mean normalization~~\n",
    "2. Training with the whole dataset!!! (not only 0.02%) --> choose models based on this result (1st approach DONE)\n",
    "3. ~~Hyperparameter Plots (copying manually acc and std dev :) )~~\n",
    "4. Use SMOTE algorithm instead of undersampling? => DELAYED\n",
    "5. ~~Sum up all libraries used in the first cell?~~\n",
    "6. Stratified K-Fold Cross Validation for unbalanced data\n",
    "7. ~~Maybe some plots for final models~~\n",
    "8. Copy-pasting the functions I used from my utils into the other utils\n",
    "\n",
    "**08.12.2023**  \n",
    "9. ~~Adding confusionMatrix to the prediction of main models~~    \n",
    "10. Making experiments with reducing dimensionality    \n",
    "11. Add description and summary    \n",
    "12. Inspect why the confusion matrices are different  "
   ]
  }
 ],
 "metadata": {
  "language_info": {
   "name": "python"
  }
 },
 "nbformat": 4,
 "nbformat_minor": 2
}
