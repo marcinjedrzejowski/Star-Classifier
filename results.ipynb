{
 "cells": [
  {
   "cell_type": "markdown",
   "metadata": {},
   "source": [
    "|                  | Preprocessing          | Best Model | Structure    | Accuracy | Sensitivity | Specificity | PPV   | NPV   | F_Score |\n",
    "|------------------|------------------------|------------|--------------|----------|-------------|-------------|-------|-------|---------|\n",
    "| First Approach   | 10% data, minmax, 10 folds, unbalanced | Decision Tree | Max Depth 10 | 94.15    | 94.15       | 94.32       | 94.08 | 95.66 | 94.08   |\n",
    "| Second Approach  | 10% data, zero-mean, 10 folds, balanced | Ensemble | Hard Voting | 96.57    | 96.57       | 98.30       | 96.56 | 98.32 | 96.56   |\n",
    "| Third Approach   | PCA 10% zero-mean 10 folds, balanced | ANN | [50,30] with \"tanh\" activation | 95.52    | 95.52       | 97.78       | 95.49 | 97.81 | 95.49   |\n",
    "| Fourth Approach  | PCA, 5% data, zero-mean, 5 folds, unbalanced | Ensemble | Weighted Majority Voting | 94.2     | 94.2        | 96.94       | 94.71 | 93.33 | 94.27   |"
   ]
  }
 ],
 "metadata": {
  "language_info": {
   "name": "python"
  }
 },
 "nbformat": 4,
 "nbformat_minor": 2
}
