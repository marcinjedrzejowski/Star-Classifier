{
 "cells": [
  {
   "cell_type": "markdown",
   "metadata": {},
   "source": [
    "## Zero-mean / Balance / 0.10 dataset\n",
    "\n",
    "| Hyperparameters |          |          |\n",
    "|-----------------|----------|----------|\n",
    "| DT              | 0.953    | depth 10    |\n",
    "| KNN             | 0.898    | 5 neighbors    |\n",
    "| SVM             | 0.957    | \"kernel\" => \"linear\", \"degree\" => 7, \"C\" => 10.0, \"gamma\" => \"scale\"    |\n",
    "| ANN             | 0.954    | \"architecture\" => [70, 40], \"activation\" => \"tanh\", \"learning_rate\" => 0.01, \"validation_ratio\" => 0.1, \"n_iter_no_change\" => 80, \"max_iter\" => 1000, \"repetitionsTraining\" => 10    |\n",
    "\n",
    "\n",
    "| Models |          |\n",
    "|--------|----------|\n",
    "| DT     | 0.941    |\n",
    "| KNN    | 0.902    |\n",
    "| SVM    | 0.945    |\n",
    "| ANN    | 0.947    |\n",
    "\n",
    "GPT recomendation for stacking -> stacking"
   ]
  },
  {
   "cell_type": "markdown",
   "metadata": {},
   "source": [
    "## Min-max / Balance / 0.10 dataset\n",
    "\n",
    "| Hyperparameters |          |          |\n",
    "|-----------------|----------|----------|\n",
    "| DT              | 0.953    | depth 10    |\n",
    "| KNN             | 0.889    | 5 neighbors    |\n",
    "| SVM             | 0.894    | \"kernel\" => \"rbf\", \"degree\" => 3, \"C\" => 1.0, \"gamma\" => \"scale\"    |\n",
    "| ANN             | 0.954    | [50, 30], \"activation\" => \"relu\", \"learning_rate\" => 0.01, \"validation_ratio\" => 0.1, \"n_iter_no_change\" => 80, \"max_iter\" => 1000, \"repetitionsTraining\" => 10    |\n",
    "\n",
    "\n",
    "| Models |          |\n",
    "|--------|----------|\n",
    "| DT     | 0.873    |\n",
    "| KNN    | 0.692    |\n",
    "| SVM    | 0.777    |\n",
    "| ANN    | 0.906    |"
   ]
  },
  {
   "cell_type": "markdown",
   "metadata": {},
   "source": []
  }
 ],
 "metadata": {
  "language_info": {
   "name": "python"
  }
 },
 "nbformat": 4,
 "nbformat_minor": 2
}
