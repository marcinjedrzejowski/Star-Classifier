{
 "cells": [
  {
   "cell_type": "code",
   "execution_count": 37,
   "metadata": {},
   "outputs": [
    {
     "name": "stderr",
     "output_type": "stream",
     "text": [
      "WARNING: replacing module Preprocessing.\n",
      "WARNING: replacing module ModelEvaluation.\n",
      "WARNING: replacing module DataLoader.\n"
     ]
    },
    {
     "data": {
      "text/plain": [
       "Main.DataLoader"
      ]
     },
     "metadata": {},
     "output_type": "display_data"
    }
   ],
   "source": [
    "include(\"utils/preprocessing.jl\")\n",
    "include(\"utils/model_evaluation.jl\")\n",
    "include(\"utils/data_loader.jl\")\n"
   ]
  },
  {
   "cell_type": "code",
   "execution_count": 33,
   "metadata": {},
   "outputs": [
    {
     "name": "stdout",
     "output_type": "stream",
     "text": [
      "Any[\"obj_ID\", \"alpha\", \"delta\", \"u\", \"g\", \"r\", \"i\", \"z\", \"run_ID\", \"rerun_ID\", \"cam_col\", \"field_ID\", \"spec_obj_ID\", \"class\", \"redshift\", \"plate\", \"MJD\", \"fiber_ID\"]\n",
      "18\n"
     ]
    }
   ],
   "source": [
    "using .DataLoader\n",
    "\n",
    "data = DataLoader.load_data(\"dataset/star_classification.csv\");\n",
    "println(data[1,:])\n",
    "println(size(data,2))\n"
   ]
  },
  {
   "cell_type": "code",
   "execution_count": 38,
   "metadata": {},
   "outputs": [
    {
     "name": "stdout",
     "output_type": "stream",
     "text": [
      "Float32[0.9991126, 0.9990701, 0.5353444, 0.42766455, 0.998944, 0.43424812, 0.0, 0.2, 0.06952965, 0.45158514, 0.09183086, 0.45159188, 0.64800656, 0.17017017]\n",
      "Bool[1, 0, 0]\n"
     ]
    }
   ],
   "source": [
    "using .Preprocessing\n",
    "\n",
    "inputs, targets = Preprocessing.preprocess_data(data)\n",
    "println(inputs[1,:])\n",
    "println(targets[1,:])"
   ]
  }
 ],
 "metadata": {
  "kernelspec": {
   "display_name": "Julia 1.9.3",
   "language": "julia",
   "name": "julia-1.9"
  },
  "language_info": {
   "file_extension": ".jl",
   "mimetype": "application/julia",
   "name": "julia",
   "version": "1.9.3"
  }
 },
 "nbformat": 4,
 "nbformat_minor": 2
}
