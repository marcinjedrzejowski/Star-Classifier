{
 "cells": [
  {
   "cell_type": "code",
   "execution_count": 5,
   "metadata": {},
   "outputs": [
    {
     "name": "stderr",
     "output_type": "stream",
     "text": [
      "WARNING: replacing module Preprocessing.\n",
      "WARNING: replacing module ModelEvaluation.\n",
      "WARNING: replacing module DataLoader.\n"
     ]
    },
    {
     "data": {
      "text/plain": [
       "Main.DataLoader"
      ]
     },
     "metadata": {},
     "output_type": "display_data"
    }
   ],
   "source": [
    "include(\"utils/preprocessing.jl\")\n",
    "include(\"utils/model_evaluation.jl\")\n",
    "include(\"utils/data_loader.jl\")\n"
   ]
  },
  {
   "cell_type": "code",
   "execution_count": 7,
   "metadata": {},
   "outputs": [
    {
     "name": "stdout",
     "output_type": "stream",
     "text": [
      "Any[\"obj_ID\", \"alpha\", \"delta\", \"u\", \"g\", \"r\", \"i\", \"z\", \"run_ID\", \"rerun_ID\", \"cam_col\", \"field_ID\", \"spec_obj_ID\", \"class\", \"redshift\", \"plate\", \"MJD\", \"fiber_ID\"]\n"
     ]
    }
   ],
   "source": [
    "using .DataLoader\n",
    "data = DataLoader.load_data(\"dataset/star_classification.csv\");\n",
    "println(data[1,:])"
   ]
  }
 ],
 "metadata": {
  "kernelspec": {
   "display_name": "Julia 1.9.3",
   "language": "julia",
   "name": "julia-1.9"
  },
  "language_info": {
   "file_extension": ".jl",
   "mimetype": "application/julia",
   "name": "julia",
   "version": "1.9.3"
  }
 },
 "nbformat": 4,
 "nbformat_minor": 2
}
