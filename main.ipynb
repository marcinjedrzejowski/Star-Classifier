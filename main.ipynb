{
 "cells": [
  {
   "cell_type": "code",
   "execution_count": 97,
   "metadata": {},
   "outputs": [
    {
     "name": "stderr",
     "output_type": "stream",
     "text": [
      "WARNING: replacing module Preprocessing.\n",
      "WARNING: replacing module ModelEvaluation.\n",
      "WARNING: replacing module DataLoader.\n"
     ]
    },
    {
     "data": {
      "text/plain": [
       "Main.DataLoader"
      ]
     },
     "metadata": {},
     "output_type": "display_data"
    }
   ],
   "source": [
    "include(\"utils/preprocessing.jl\")\n",
    "include(\"utils/model_evaluation.jl\")\n",
    "include(\"utils/data_loader.jl\")\n"
   ]
  },
  {
   "cell_type": "code",
   "execution_count": 98,
   "metadata": {},
   "outputs": [
    {
     "name": "stdout",
     "output_type": "stream",
     "text": [
      "Any[\"obj_ID\", \"alpha\", \"delta\", \"u\", \"g\", \"r\", \"i\", \"z\", \"run_ID\", \"rerun_ID\", \"cam_col\", \"field_ID\", \"spec_obj_ID\", \"class\", \"redshift\", \"plate\", \"MJD\", \"fiber_ID\"]\n",
      "18\n"
     ]
    }
   ],
   "source": [
    "using .DataLoader\n",
    "\n",
    "data = DataLoader.load_data(\"dataset/star_classification.csv\");\n",
    "println(data[1,:])\n",
    "println(size(data,2))\n"
   ]
  },
  {
   "cell_type": "code",
   "execution_count": 99,
   "metadata": {},
   "outputs": [
    {
     "name": "stdout",
     "output_type": "stream",
     "text": [
      "Float32[0.99912727, 0.99913514, 0.5853036, 0.47118467, 0.9990876, 0.3373898, 1.0, 0.1799591, 0.5235762, 0.08847388, 0.523573, 0.65401417, 0.7347347]\n",
      "Any[\"GALAXY\"]\n"
     ]
    }
   ],
   "source": [
    "using .Preprocessing\n",
    "\n",
    "inputs, targets = Preprocessing.preprocess_data(data)\n",
    "println(inputs[1,:])\n",
    "println(targets[1,:])"
   ]
  },
  {
   "cell_type": "code",
   "execution_count": 107,
   "metadata": {},
   "outputs": [
    {
     "name": "stdout",
     "output_type": "stream",
     "text": [
      "18961\n",
      "18961\n",
      "18961"
     ]
    }
   ],
   "source": [
    "print(count(targets .== \"GALAXY\"),'\\n')\n",
    "print(count(targets .== \"STAR\"),'\\n')\n",
    "print(count(targets .== \"QSO\"))\n"
   ]
  }
 ],
 "metadata": {
  "kernelspec": {
   "display_name": "Julia 1.9.3",
   "language": "julia",
   "name": "julia-1.9"
  },
  "language_info": {
   "file_extension": ".jl",
   "mimetype": "application/julia",
   "name": "julia",
   "version": "1.9.3"
  }
 },
 "nbformat": 4,
 "nbformat_minor": 2
}
