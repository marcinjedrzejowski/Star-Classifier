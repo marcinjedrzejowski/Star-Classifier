{
 "cells": [
  {
   "cell_type": "code",
   "execution_count": 99,
   "metadata": {},
   "outputs": [
    {
     "name": "stderr",
     "output_type": "stream",
     "text": [
      "WARNING: replacing module DataLoader.\n",
      "WARNING: replacing module Visualization.\n",
      "WARNING: replacing module Preprocessing.\n"
     ]
    },
    {
     "data": {
      "text/plain": [
       "Main.Preprocessing"
      ]
     },
     "execution_count": 99,
     "metadata": {},
     "output_type": "execute_result"
    }
   ],
   "source": [
    "include(\"utils/data_loader.jl\")\n",
    "include(\"utils/visualization.jl\")\n",
    "include(\"utils/preprocessing.jl\")"
   ]
  },
  {
   "cell_type": "markdown",
   "metadata": {},
   "source": [
    "## APPROACH 1: Without Balancing ##"
   ]
  },
  {
   "cell_type": "code",
   "execution_count": 100,
   "metadata": {},
   "outputs": [],
   "source": [
    "# import Pkg;\n",
    "# Pkg.add(\"Random\")\n",
    "using Random\n",
    "Random.seed!(123)\n",
    "\n",
    "data = DataLoader.load_data(\"dataset\\\\star_classification.csv\");"
   ]
  },
  {
   "cell_type": "markdown",
   "metadata": {},
   "source": [
    "##### Preprocess and balancing data #####"
   ]
  },
  {
   "cell_type": "code",
   "execution_count": 101,
   "metadata": {},
   "outputs": [
    {
     "name": "stdout",
     "output_type": "stream",
     "text": [
      "Size :(100000, 5)\n",
      "First input: Float32[23.87882, 22.2753, 20.39501, 19.16573, 18.79371]\n",
      "First target: Bool[1, 0, 0]\n"
     ]
    }
   ],
   "source": [
    "# preprocess_data(dataset, balancing_dataset, normalization, features)\n",
    "inputs, targets = Preprocessing.preprocess_data(data, false, [4,5,6,7,8]);\n",
    "\n",
    "# Print first input and target\n",
    "println(\"First input: \", inputs[1, :])\n",
    "println(\"First target: \", targets[1, :])"
   ]
  },
  {
   "cell_type": "code",
   "execution_count": 102,
   "metadata": {},
   "outputs": [],
   "source": [
    "# Split to train and test\n",
    "# train_inputs, train_targets, test_inputs, test_targets = DataLoader.split_data(inputs, targets, 0.8);\n",
    "# Check size of train and test sets\n",
    "# println(\"Train inputs: \", size(train_inputs))\n",
    "# println(\"Train targets: \", size(train_targets))\n",
    "# println(\"Test inputs: \", size(test_inputs))\n",
    "# println(\"Test targets: \", size(test_targets))"
   ]
  },
  {
   "cell_type": "code",
   "execution_count": 103,
   "metadata": {},
   "outputs": [
    {
     "name": "stdout",
     "output_type": "stream",
     "text": [
      "Train inputs: Float32[0.9991126, 0.9990701, 0.5353444, 0.42766455, 0.998944]\n",
      "Train targets: Bool[1, 0, 0]\n"
     ]
    }
   ],
   "source": [
    "# Normalize data\n",
    "train_inputs = Preprocessing.normalize_data(inputs , \"minmax\");\n",
    "println(\"Train inputs: \", train_inputs[1, :])\n",
    "println(\"Train targets: \", train_targets[1, :])"
   ]
  },
  {
   "cell_type": "code",
   "execution_count": 104,
   "metadata": {},
   "outputs": [
    {
     "name": "stdout",
     "output_type": "stream",
     "text": [
      "Train inputs: (80000, 3)\n",
      "Crossvalidation indices: [10, 1, 7, 4, 9, 6, 10, 6, 6, 5, 8, 1, 5, 9, 1, 7, 9, 8, 9, 9, 1, 6, 1, 6, 3, 10, 5, 2, 9, 8, 5, 4, 1, 2, 7, 9, 1, 8, 5, 7, 5, 2, 6, 2, 5, 9, 7, 9, 1, 4, 8, 7, 2, 9, 4, 4, 1, 7, 2, 7, 2, 5, 9, 9, 8, 8, 9, 7, 6, 5, 8, 1, 8, 6, 10, 8, 8, 2, 10, 6, 9, 5, 6, 10, 1, 8, 9, 8, 9, 9, 3, 4, 1, 5, 2, 10, 10, 1, 10, 9]\n"
     ]
    }
   ],
   "source": [
    "println(\"Train inputs: \", size(train_targets))\n",
    "training_indices = Preprocessing.crossvalidation(targets, 10)\n",
    "println(\"Crossvalidation indices: \", training_indices[1:100])"
   ]
  },
  {
   "cell_type": "code",
   "execution_count": 107,
   "metadata": {},
   "outputs": [
    {
     "name": "stderr",
     "output_type": "stream",
     "text": [
      "WARNING: redefinition of constant SVC. This may fail, cause incorrect answers, or produce other errors.\n",
      "WARNING: redefinition of constant DecisionTreeClassifier. This may fail, cause incorrect answers, or produce other errors.\n",
      "WARNING: redefinition of constant KNeighborsClassifier. This may fail, cause incorrect answers, or produce other errors.\n"
     ]
    },
    {
     "data": {
      "text/plain": [
       "train_model (generic function with 3 methods)"
      ]
     },
     "execution_count": 107,
     "metadata": {},
     "output_type": "execute_result"
    }
   ],
   "source": [
    "using ScikitLearn\n",
    "\n",
    "@sk_import svm: SVC\n",
    "@sk_import tree: DecisionTreeClassifier\n",
    "@sk_import neighbors: KNeighborsClassifier\n",
    "\n",
    "function train_model(estimators::AbstractArray{Symbol,1},\n",
    "                    modelsHyperParameters::AbstractArray{Dict{String,Any},1},\n",
    "                    trainingDataset::Tuple{Matrix{Float32}, BitMatrix},\n",
    "                    kFoldIndices::Array{Int64,1})\n",
    "    \n",
    "    numFolds = maximum(kFoldIndices)\n",
    "    (inputs, targets) = trainingDataset\n",
    "\n",
    "    testAccuracies = Array{Float64}(undef, numFolds);\n",
    "\n",
    "    for numFold in 1:numFolds\n",
    "        trainingInputs = inputs[kFoldIndices .!= numFold, :];\n",
    "        testingInputs = inputs[kFoldIndices .== numFold, :];\n",
    "        trainingTargets = targets[kFoldIndices .!= numFold, :];\n",
    "        testingTargets = targets[kFoldIndices .== numFold, :];\n",
    "        \n",
    "        #Define the models to train\n",
    "        models = Dict(\"SVM\" => SVC(probability=modelsHyperParameters[1][\"probability\"], kernel=modelsHyperParameters[1][\"kernel\"], C=modelsHyperParameters[1][\"C\"]), \n",
    "                \"DT\" => DecisionTreeClassifier(max_depth=modelsHyperParameters[2][\"max_depth\"]),\n",
    "                \"KNN\" => KNeighborsClassifier(n_neighbors=modelsHyperParameters[3][\"n_neighbors\"]))\n",
    "\n",
    "        base_models = [name for name in keys(models)]\n",
    "\n",
    "        for key in keys(models)\n",
    "            model = models[key]\n",
    "            fit!(model,trainingInputs, trainingTargets)\n",
    "\n",
    "            acc = score(model,testInputs, testTargets)\n",
    "            println(\"$key: $(acc*100) %\")\n",
    "        end\n",
    "    end\n",
    "end"
   ]
  },
  {
   "cell_type": "code",
   "execution_count": 109,
   "metadata": {},
   "outputs": [
    {
     "ename": "LoadError",
     "evalue": "PyError ($(Expr(:escape, :(ccall(#= C:\\Users\\marci\\.julia\\packages\\PyCall\\ilqDX\\src\\pyfncall.jl:43 =# @pysym(:PyObject_Call), PyPtr, (PyPtr, PyPtr, PyPtr), o, pyargsptr, kw))))) <class 'ValueError'>\nValueError('y should be a 1d array, got an array of shape (89998, 3) instead.')\n  File \"C:\\Users\\marci\\.julia\\conda\\3\\x86_64\\lib\\site-packages\\sklearn\\svm\\_base.py\", line 192, in fit\n    X, y = self._validate_data(\n  File \"C:\\Users\\marci\\.julia\\conda\\3\\x86_64\\lib\\site-packages\\sklearn\\base.py\", line 584, in _validate_data\n    X, y = check_X_y(X, y, **check_params)\n  File \"C:\\Users\\marci\\.julia\\conda\\3\\x86_64\\lib\\site-packages\\sklearn\\utils\\validation.py\", line 1122, in check_X_y\n    y = _check_y(y, multi_output=multi_output, y_numeric=y_numeric, estimator=estimator)\n  File \"C:\\Users\\marci\\.julia\\conda\\3\\x86_64\\lib\\site-packages\\sklearn\\utils\\validation.py\", line 1143, in _check_y\n    y = column_or_1d(y, warn=True)\n  File \"C:\\Users\\marci\\.julia\\conda\\3\\x86_64\\lib\\site-packages\\sklearn\\utils\\validation.py\", line 1202, in column_or_1d\n    raise ValueError(\n",
     "output_type": "error",
     "traceback": [
      "PyError ($(Expr(:escape, :(ccall(#= C:\\Users\\marci\\.julia\\packages\\PyCall\\ilqDX\\src\\pyfncall.jl:43 =# @pysym(:PyObject_Call), PyPtr, (PyPtr, PyPtr, PyPtr), o, pyargsptr, kw))))) <class 'ValueError'>\nValueError('y should be a 1d array, got an array of shape (89998, 3) instead.')\n  File \"C:\\Users\\marci\\.julia\\conda\\3\\x86_64\\lib\\site-packages\\sklearn\\svm\\_base.py\", line 192, in fit\n    X, y = self._validate_data(\n  File \"C:\\Users\\marci\\.julia\\conda\\3\\x86_64\\lib\\site-packages\\sklearn\\base.py\", line 584, in _validate_data\n    X, y = check_X_y(X, y, **check_params)\n  File \"C:\\Users\\marci\\.julia\\conda\\3\\x86_64\\lib\\site-packages\\sklearn\\utils\\validation.py\", line 1122, in check_X_y\n    y = _check_y(y, multi_output=multi_output, y_numeric=y_numeric, estimator=estimator)\n  File \"C:\\Users\\marci\\.julia\\conda\\3\\x86_64\\lib\\site-packages\\sklearn\\utils\\validation.py\", line 1143, in _check_y\n    y = column_or_1d(y, warn=True)\n  File \"C:\\Users\\marci\\.julia\\conda\\3\\x86_64\\lib\\site-packages\\sklearn\\utils\\validation.py\", line 1202, in column_or_1d\n    raise ValueError(\n",
      "",
      "Stacktrace:",
      "  [1] pyerr_check",
      "    @ C:\\Users\\marci\\.julia\\packages\\PyCall\\ilqDX\\src\\exception.jl:75 [inlined]",
      "  [2] pyerr_check",
      "    @ C:\\Users\\marci\\.julia\\packages\\PyCall\\ilqDX\\src\\exception.jl:79 [inlined]",
      "  [3] _handle_error(msg::String)",
      "    @ PyCall C:\\Users\\marci\\.julia\\packages\\PyCall\\ilqDX\\src\\exception.jl:96",
      "  [4] macro expansion",
      "    @ C:\\Users\\marci\\.julia\\packages\\PyCall\\ilqDX\\src\\exception.jl:110 [inlined]",
      "  [5] #107",
      "    @ C:\\Users\\marci\\.julia\\packages\\PyCall\\ilqDX\\src\\pyfncall.jl:43 [inlined]",
      "  [6] disable_sigint",
      "    @ .\\c.jl:473 [inlined]",
      "  [7] __pycall!",
      "    @ C:\\Users\\marci\\.julia\\packages\\PyCall\\ilqDX\\src\\pyfncall.jl:42 [inlined]",
      "  [8] _pycall!(ret::PyCall.PyObject, o::PyCall.PyObject, args::Tuple{Matrix{Float32}, BitMatrix}, nargs::Int64, kw::Ptr{Nothing})",
      "    @ PyCall C:\\Users\\marci\\.julia\\packages\\PyCall\\ilqDX\\src\\pyfncall.jl:29",
      "  [9] _pycall!(ret::PyCall.PyObject, o::PyCall.PyObject, args::Tuple{Matrix{Float32}, BitMatrix}, kwargs::Base.Pairs{Symbol, Union{}, Tuple{}, NamedTuple{(), Tuple{}}})",
      "    @ PyCall C:\\Users\\marci\\.julia\\packages\\PyCall\\ilqDX\\src\\pyfncall.jl:11",
      " [10] (::PyCall.PyObject)(::Matrix{Float32}, ::Vararg{Any}; kwargs::Base.Pairs{Symbol, Union{}, Tuple{}, NamedTuple{(), Tuple{}}})",
      "    @ PyCall C:\\Users\\marci\\.julia\\packages\\PyCall\\ilqDX\\src\\pyfncall.jl:86",
      " [11] (::PyCall.PyObject)(::Matrix{Float32}, ::Vararg{Any})",
      "    @ PyCall C:\\Users\\marci\\.julia\\packages\\PyCall\\ilqDX\\src\\pyfncall.jl:86",
      " [12] fit!(::PyCall.PyObject, ::Matrix{Float32}, ::Vararg{Any}; kwargs::Base.Pairs{Symbol, Union{}, Tuple{}, NamedTuple{(), Tuple{}}})",
      "    @ ScikitLearn.Skcore C:\\Users\\marci\\.julia\\packages\\ScikitLearn\\sqLdT\\src\\Skcore.jl:102",
      " [13] fit!(::PyCall.PyObject, ::Matrix{Float32}, ::BitMatrix)",
      "    @ ScikitLearn.Skcore C:\\Users\\marci\\.julia\\packages\\ScikitLearn\\sqLdT\\src\\Skcore.jl:102",
      " [14] train_model(estimators::Vector{Symbol}, modelsHyperParameters::Vector{Dict{String, Any}}, trainingDataset::Tuple{Matrix{Float32}, BitMatrix}, kFoldIndices::Vector{Int64})",
      "    @ Main .\\In[107]:32",
      " [15] top-level scope",
      "    @ In[109]:6"
     ]
    }
   ],
   "source": [
    "modelsHyperParameters = Array{Dict{String, Any}}(undef, 3)\n",
    "modelsHyperParameters[1] = Dict(\"probability\" => true, \"kernel\" => \"linear\", \"C\" => 0.1)\n",
    "modelsHyperParameters[2] = Dict(\"max_depth\" => 4)\n",
    "modelsHyperParameters[3] = Dict(\"n_neighbors\" => 3)\n",
    "\n",
    "ensemble_accuracy = train_model([:SVM, :DT, :KNN], modelsHyperParameters, (inputs, targets), training_indices)"
   ]
  }
 ],
 "metadata": {
  "kernelspec": {
   "display_name": "Julia 1.9.3",
   "language": "julia",
   "name": "julia-1.9"
  },
  "language_info": {
   "file_extension": ".jl",
   "mimetype": "application/julia",
   "name": "julia",
   "version": "1.9.3"
  }
 },
 "nbformat": 4,
 "nbformat_minor": 2
}
