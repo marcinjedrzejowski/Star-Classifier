{
 "cells": [
  {
   "cell_type": "code",
   "execution_count": 117,
   "metadata": {},
   "outputs": [
    {
     "name": "stderr",
     "output_type": "stream",
     "text": [
      "WARNING: replacing module Preprocessing.\n",
      "WARNING: replacing module ModelEvaluation.\n",
      "WARNING: replacing module DataLoader.\n"
     ]
    },
    {
     "data": {
      "text/plain": [
       "Main.DataLoader"
      ]
     },
     "metadata": {},
     "output_type": "display_data"
    }
   ],
   "source": [
    "include(\"utils/preprocessing.jl\")\n",
    "include(\"utils/model_evaluation.jl\")\n",
    "include(\"utils/data_loader.jl\")\n"
   ]
  },
  {
   "cell_type": "code",
   "execution_count": 118,
   "metadata": {},
   "outputs": [
    {
     "name": "stdout",
     "output_type": "stream",
     "text": [
      "Any[\"obj_ID\", \"alpha\", \"delta\", \"u\", \"g\", \"r\", \"i\", \"z\", \"run_ID\", \"rerun_ID\", \"cam_col\", \"field_ID\", \"spec_obj_ID\", \"class\", \"redshift\", \"plate\", \"MJD\", \"fiber_ID\"]\n",
      "18\n"
     ]
    }
   ],
   "source": [
    "using .DataLoader\n",
    "\n",
    "data = DataLoader.load_data(\"dataset/star_classification.csv\");\n",
    "println(data[1,:])\n",
    "println(size(data,2))\n"
   ]
  },
  {
   "cell_type": "code",
   "execution_count": 119,
   "metadata": {},
   "outputs": [
    {
     "name": "stdout",
     "output_type": "stream",
     "text": [
      "Float32[0.9989741, 0.9992305, 0.6196673, 0.4961512, 0.9990908, 0.54153734, 0.6, 0.118609406, 0.81344813, 0.129371, 0.81345165, 0.8990989, 0.7247247]\n",
      "Bool[1, 0, 0]\n"
     ]
    }
   ],
   "source": [
    "using .Preprocessing\n",
    "\n",
    "inputs, targets = Preprocessing.preprocess_data(data)\n",
    "println(inputs[1,:])\n",
    "println(targets[1,:])"
   ]
  },
  {
   "cell_type": "code",
   "execution_count": 120,
   "metadata": {},
   "outputs": [
    {
     "name": "stdout",
     "output_type": "stream",
     "text": [
      "94805\n",
      "94805\n",
      "94805"
     ]
    }
   ],
   "source": [
    "print(count(targets .== [1 0 0]),'\\n')\n",
    "print(count(targets .== [0 1 0]),'\\n')\n",
    "print(count(targets .== [0 0 1]))\n"
   ]
  }
 ],
 "metadata": {
  "kernelspec": {
   "display_name": "Julia 1.9.3",
   "language": "julia",
   "name": "julia-1.9"
  },
  "language_info": {
   "file_extension": ".jl",
   "mimetype": "application/julia",
   "name": "julia",
   "version": "1.9.3"
  }
 },
 "nbformat": 4,
 "nbformat_minor": 2
}
