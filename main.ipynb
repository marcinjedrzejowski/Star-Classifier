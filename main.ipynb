{
 "cells": [
  {
   "cell_type": "code",
   "execution_count": 136,
   "metadata": {},
   "outputs": [
    {
     "name": "stderr",
     "output_type": "stream",
     "text": [
      "WARNING: replacing module Preprocessing.\n",
      "WARNING: replacing module ModelEvaluation.\n",
      "WARNING: replacing module DataLoader.\n"
     ]
    },
    {
     "data": {
      "text/plain": [
       "Main.DataLoader"
      ]
     },
     "metadata": {},
     "output_type": "display_data"
    }
   ],
   "source": [
    "include(\"utils/preprocessing.jl\")\n",
    "include(\"utils/model_evaluation.jl\")\n",
    "include(\"utils/data_loader.jl\")\n"
   ]
  },
  {
   "cell_type": "code",
   "execution_count": 137,
   "metadata": {},
   "outputs": [
    {
     "name": "stdout",
     "output_type": "stream",
     "text": [
      "Any[\"obj_ID\", \"alpha\", \"delta\", \"u\", \"g\", \"r\", \"i\", \"z\", \"run_ID\", \"rerun_ID\", \"cam_col\", \"field_ID\", \"spec_obj_ID\", \"class\", \"redshift\", \"plate\", \"MJD\", \"fiber_ID\"]\n",
      "18\n"
     ]
    }
   ],
   "source": [
    "using .DataLoader\n",
    "\n",
    "data = DataLoader.load_data(\"dataset/star_classification.csv\");\n",
    "println(data[1,:])\n",
    "println(size(data,2))\n"
   ]
  },
  {
   "cell_type": "code",
   "execution_count": 138,
   "metadata": {},
   "outputs": [
    {
     "name": "stdout",
     "output_type": "stream",
     "text": [
      "Float32[0.9987257, 0.9988122, 0.3534751, 0.3027442, 0.99872005]\n",
      "Bool[1, 0, 0]\n"
     ]
    }
   ],
   "source": [
    "using .Preprocessing\n",
    "\n",
    "inputs, targets = Preprocessing.preprocess_data(data)\n",
    "println(inputs[1,:])\n",
    "println(targets[1,:])"
   ]
  },
  {
   "cell_type": "code",
   "execution_count": null,
   "metadata": {},
   "outputs": [],
   "source": []
  }
 ],
 "metadata": {
  "kernelspec": {
   "display_name": "Julia 1.9.3",
   "language": "julia",
   "name": "julia-1.9"
  },
  "language_info": {
   "file_extension": ".jl",
   "mimetype": "application/julia",
   "name": "julia",
   "version": "1.9.3"
  }
 },
 "nbformat": 4,
 "nbformat_minor": 2
}
